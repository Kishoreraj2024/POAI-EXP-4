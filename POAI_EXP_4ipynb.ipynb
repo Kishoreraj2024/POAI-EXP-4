{
  "nbformat": 4,
  "nbformat_minor": 0,
  "metadata": {
    "colab": {
      "provenance": [],
      "authorship_tag": "ABX9TyOhA4/+6JaqAgB976ggfX6v",
      "include_colab_link": true
    },
    "kernelspec": {
      "name": "python3",
      "display_name": "Python 3"
    },
    "language_info": {
      "name": "python"
    }
  },
  "cells": [
    {
      "cell_type": "markdown",
      "metadata": {
        "id": "view-in-github",
        "colab_type": "text"
      },
      "source": [
        "<a href=\"https://colab.research.google.com/github/Kishoreraj2024/POAI-EXP-4/blob/main/POAI_EXP_4ipynb.ipynb\" target=\"_parent\"><img src=\"https://colab.research.google.com/assets/colab-badge.svg\" alt=\"Open In Colab\"/></a>"
      ]
    },
    {
      "cell_type": "code",
      "source": [
        "import heapq\n",
        "\n",
        "# Define the Node class\n",
        "class Node:\n",
        "    def __init__(self, position, parent=None, g=0, h=0):\n",
        "        self.position = position  # (row, col)\n",
        "        self.parent = parent      # Parent node\n",
        "        self.g = g                # Cost from start node\n",
        "        self.h = h                # Heuristic cost to goal\n",
        "        self.f = g + h            # Total cost\n",
        "\n",
        "    def __lt__(self, other):\n",
        "        return self.f < other.f  # For priority queue (min-heap)\n",
        "\n",
        "# Manhattan Distance as heuristic\n",
        "def heuristic(a, b):\n",
        "    return abs(a[0] - b[0]) + abs(a[1] - b[1])\n",
        "\n",
        "# A* algorithm implementation\n",
        "def a_star(grid, start, goal):\n",
        "    rows, cols = len(grid), len(grid[0])\n",
        "    open_list = []\n",
        "    heapq.heappush(open_list, Node(start, None, 0, heuristic(start, goal)))\n",
        "    closed_set = set()\n",
        "\n",
        "    while open_list:\n",
        "        current_node = heapq.heappop(open_list)  # Node with lowest f\n",
        "\n",
        "        if current_node.position == goal:\n",
        "            path = []\n",
        "            while current_node:\n",
        "                path.append(current_node.position)\n",
        "                current_node = current_node.parent\n",
        "            return path[::-1]  # Reverse path\n",
        "\n",
        "        closed_set.add(current_node.position)\n",
        "\n",
        "        for dr, dc in [(-1, 0), (1, 0), (0, -1), (0, 1)]:  # Up, Down, Left, Right\n",
        "            new_pos = (current_node.position[0] + dr, current_node.position[1] + dc)\n",
        "\n",
        "            if (0 <= new_pos[0] < rows and\n",
        "                0 <= new_pos[1] < cols and\n",
        "                grid[new_pos[0]][new_pos[1]] == 0 and\n",
        "                new_pos not in closed_set):\n",
        "\n",
        "                new_node = Node(\n",
        "                    new_pos,\n",
        "                    current_node,\n",
        "                    current_node.g + 1,\n",
        "                    heuristic(new_pos, goal)\n",
        "                )\n",
        "                heapq.heappush(open_list, new_node)\n",
        "\n",
        "    return None  # No path found\n",
        "\n",
        "# Example grid: 0 = free space, 1 = obstacle\n",
        "warehouse_grid = [\n",
        "    [0, 0, 0, 0, 1],\n",
        "    [1, 1, 0, 1, 0],\n",
        "    [0, 0, 0, 0, 0],\n",
        "    [0, 1, 1, 1, 0],\n",
        "    [0, 0, 0, 0, 0]\n",
        "]\n",
        "\n",
        "start_position = (0, 0)\n",
        "goal_position = (4, 4)\n",
        "\n",
        "path = a_star(warehouse_grid, start_position, goal_position)\n",
        "print(\"Optimal Path:\", path)\n"
      ],
      "metadata": {
        "colab": {
          "base_uri": "https://localhost:8080/"
        },
        "id": "rLL1guq159q1",
        "outputId": "d03d6353-c320-4c84-f63f-e5efe70caf3f"
      },
      "execution_count": 4,
      "outputs": [
        {
          "output_type": "stream",
          "name": "stdout",
          "text": [
            "Optimal Path: [(0, 0), (0, 1), (0, 2), (1, 2), (2, 2), (2, 3), (2, 4), (3, 4), (4, 4)]\n"
          ]
        }
      ]
    }
  ]
}